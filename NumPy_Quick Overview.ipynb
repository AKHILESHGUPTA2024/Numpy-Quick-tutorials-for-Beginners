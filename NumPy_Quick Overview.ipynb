{
 "cells": [
  {
   "cell_type": "markdown",
   "metadata": {},
   "source": [
    "## NumPy Quick Overview for absolute beginners"
   ]
  },
  {
   "cell_type": "markdown",
   "metadata": {},
   "source": [
    "#### What is NumPy"
   ]
  },
  {
   "cell_type": "markdown",
   "metadata": {},
   "source": [
    "###### NumPy is made of 2 words: Num for Numerical and Py for Python : or you can say this is an open source library used for Number values in python, used in the field of science and engineering. The core value of NumPy array is ndarray ( you can put any number in place of n, if you put 0-scalar, 1-1dimensional, 2-matrix, 3 and greater are tensors (PyTorch is another python library which deals with 3D arrays type of structures))"
   ]
  },
  {
   "cell_type": "markdown",
   "metadata": {},
   "source": [
    "##### What is an array?"
   ]
  },
  {
   "cell_type": "markdown",
   "metadata": {},
   "source": [
    "###### An array is considered as a space in grid which holds one element in per grid provided"
   ]
  },
  {
   "cell_type": "markdown",
   "metadata": {},
   "source": [
    "##### Why do we use NumPy if we have Python List in place?"
   ]
  },
  {
   "cell_type": "markdown",
   "metadata": {},
   "source": [
    "###### As we all know Python lists are quite faster but this contains a variety of data types elements into it and this is a kind of heterogeneous structure hence in order to return the result any operation can take time to sync the operation and revert to you, instead NumPy array are much faster than the traditional list of python as NumPy array have homogeneous kind of structure and it will take negligible time to revert you the answer, hence using NumPy array is the smartest way."
   ]
  },
  {
   "cell_type": "markdown",
   "metadata": {},
   "source": [
    "##### What are restriction do we have with NumPy array?"
   ]
  },
  {
   "cell_type": "markdown",
   "metadata": {},
   "source": [
    "###### Following are restrictions we have with NumPy arrays:\n",
    "###### 1. this holds homogeneous kind of structure meaning all elements of same kind\n",
    "###### 2. once array created, you can't change the size of an array\n",
    "###### 3. the shape of an array is rectangular"
   ]
  },
  {
   "cell_type": "markdown",
   "metadata": {},
   "source": [
    "###### Throughout the NumPy documentation you will find this kind of code block\n",
    "a=np.array([1,2,3,4,5])"
   ]
  },
  {
   "cell_type": "markdown",
   "metadata": {},
   "source": [
    "##### Lets' install and import NumPy library"
   ]
  },
  {
   "cell_type": "code",
   "execution_count": 1,
   "metadata": {},
   "outputs": [
    {
     "name": "stdout",
     "output_type": "stream",
     "text": [
      "Requirement already satisfied: numpy in /Library/Frameworks/Python.framework/Versions/3.12/lib/python3.12/site-packages (2.0.0)\n",
      "\n",
      "\u001b[1m[\u001b[0m\u001b[34;49mnotice\u001b[0m\u001b[1;39;49m]\u001b[0m\u001b[39;49m A new release of pip is available: \u001b[0m\u001b[31;49m24.1.1\u001b[0m\u001b[39;49m -> \u001b[0m\u001b[32;49m24.1.2\u001b[0m\n",
      "\u001b[1m[\u001b[0m\u001b[34;49mnotice\u001b[0m\u001b[1;39;49m]\u001b[0m\u001b[39;49m To update, run: \u001b[0m\u001b[32;49mpip install --upgrade pip\u001b[0m\n",
      "Note: you may need to restart the kernel to use updated packages.\n"
     ]
    }
   ],
   "source": [
    "pip install numpy"
   ]
  },
  {
   "cell_type": "code",
   "execution_count": 2,
   "metadata": {},
   "outputs": [],
   "source": [
    "import numpy as np"
   ]
  },
  {
   "cell_type": "markdown",
   "metadata": {},
   "source": [
    "##### Let's create basic arrays"
   ]
  },
  {
   "cell_type": "code",
   "execution_count": 75,
   "metadata": {},
   "outputs": [],
   "source": [
    "# simple method\n",
    "# a=np.array([1,2,3,4,5,6,7,8,9,10])\n",
    "# a=np.array([[1,2,3],[4,5,6]])\n",
    "# a=np.array([[[1,2,3],[4,5,6],[7,8,9],[10,11,12]]])\n",
    "\n",
    "# using numpy method\n",
    "# a=np.zeros(5)\n",
    "# a=np.zeros(3,4)\n",
    "# a=np.zeros(3,4,dtype=np.int32)\n",
    "# a=np.ones(5)\n",
    "# a=np.ones(2,3)\n",
    "# a=np.ones(2,3,dtype=np.int32)\n",
    "# a=np.linspace(1,100)\n",
    "# a=np.linspace(1,100,5)\n",
    "# a=np.linspace(1,100,num=5)\n",
    "# a=np.arange(10)\n",
    "# a=np.arange(0,100)\n",
    "# a=np.arange(0,100,2)\n",
    "# a=np.eye(10,dtype=np.int8)\n",
    "# a=np.empty(5)\n",
    "# np.empty((5,5),dtype=np.int8)\n"
   ]
  },
  {
   "cell_type": "markdown",
   "metadata": {},
   "source": [
    "##### Reading items / accessing items / updating items"
   ]
  },
  {
   "cell_type": "code",
   "execution_count": 63,
   "metadata": {},
   "outputs": [
    {
     "name": "stdout",
     "output_type": "stream",
     "text": [
      "1\n",
      "[1 2 3 4 5]\n",
      "[1 2 3 4 5]\n",
      "[ 3  4  5  6  7  8  9 10]\n",
      "3\n",
      "[4 5]\n"
     ]
    },
    {
     "data": {
      "text/plain": [
       "array([[4, 5, 6],\n",
       "       [1, 2, 3]])"
      ]
     },
     "execution_count": 63,
     "metadata": {},
     "output_type": "execute_result"
    }
   ],
   "source": [
    "a=np.array([1,2,3,4,5,6,7,8,9,10])\n",
    "x=np.array([[1,2,3],[4,5,6]])\n",
    "print(a[0])\n",
    "print(a[0:5])\n",
    "print(a[:5])\n",
    "print(a[2:])\n",
    "print(x[0][-1])\n",
    "print(x[-1][-3:-1])\n",
    "\n",
    "np.take(a,[0,3,6]) # specific items to pick\n",
    "np.put(a,[0,3,6],[10,10,10]) # update new values for specific items selected\n",
    "a[:5:2] # Start at 1st through 5th with 2 step\n",
    "x[:,1] # Get 2nd value from each row\n",
    "x[::-1]# Flip Array"
   ]
  },
  {
   "cell_type": "markdown",
   "metadata": {},
   "source": [
    "##### Copy / View"
   ]
  },
  {
   "cell_type": "code",
   "execution_count": 30,
   "metadata": {},
   "outputs": [
    {
     "data": {
      "text/plain": [
       "array([100,   2,   3,   4,   5,   6,   7,   8,   9,  10])"
      ]
     },
     "execution_count": 30,
     "metadata": {},
     "output_type": "execute_result"
    }
   ],
   "source": [
    "b=a.copy()\n",
    "b[0]=100\n",
    "b\n",
    "a\n",
    "\n",
    "b=a.view()\n",
    "b[0]=100\n",
    "b\n",
    "a"
   ]
  },
  {
   "cell_type": "markdown",
   "metadata": {},
   "source": [
    "##### Attributes"
   ]
  },
  {
   "cell_type": "code",
   "execution_count": 65,
   "metadata": {},
   "outputs": [
    {
     "data": {
      "text/plain": [
       "array([[[ 1,  2,  3,  4,  5],\n",
       "        [ 6,  7,  8,  9, 10]]])"
      ]
     },
     "execution_count": 65,
     "metadata": {},
     "output_type": "execute_result"
    }
   ],
   "source": [
    "# attributes : ndim / size / shape / dtype\n",
    "a=np.array([1,2,3,4,5,6,7,8,9,10])\n",
    "b=np.array([[1,2,3],[4,5,6]])\n",
    "c=np.array([[[1,2,3],[4,5,6],[7,8,9],[10,11,12]]])\n",
    "\n",
    "a.ndim,a.dtype\n",
    "b.ndim,b.dtype\n",
    "c.ndim,c.dtype\n",
    "\n",
    "a.size, b.size, c.size\n",
    "a.shape, b.shape, c.shape\n",
    "\n",
    "# reshaping arrays\n",
    "a.shape, a[np.newaxis,:].shape, a[:,np.newaxis].shape #1st method\n",
    "a.resize((2,5)) #2nd method\n",
    "np.expand_dims(c,axis=0).shape #3rd method\n"
   ]
  },
  {
   "cell_type": "markdown",
   "metadata": {},
   "source": [
    "##### Getting help with any Numpy functions (use function?)\n"
   ]
  },
  {
   "cell_type": "code",
   "execution_count": 74,
   "metadata": {},
   "outputs": [
    {
     "name": "stdout",
     "output_type": "stream",
     "text": [
      "\u001b[0;31mSignature:\u001b[0m\n",
      "\u001b[0mnp\u001b[0m\u001b[0;34m.\u001b[0m\u001b[0meye\u001b[0m\u001b[0;34m(\u001b[0m\u001b[0;34m\u001b[0m\n",
      "\u001b[0;34m\u001b[0m    \u001b[0mN\u001b[0m\u001b[0;34m,\u001b[0m\u001b[0;34m\u001b[0m\n",
      "\u001b[0;34m\u001b[0m    \u001b[0mM\u001b[0m\u001b[0;34m=\u001b[0m\u001b[0;32mNone\u001b[0m\u001b[0;34m,\u001b[0m\u001b[0;34m\u001b[0m\n",
      "\u001b[0;34m\u001b[0m    \u001b[0mk\u001b[0m\u001b[0;34m=\u001b[0m\u001b[0;36m0\u001b[0m\u001b[0;34m,\u001b[0m\u001b[0;34m\u001b[0m\n",
      "\u001b[0;34m\u001b[0m    \u001b[0mdtype\u001b[0m\u001b[0;34m=\u001b[0m\u001b[0;34m<\u001b[0m\u001b[0;32mclass\u001b[0m \u001b[0;34m'float'\u001b[0m\u001b[0;34m>\u001b[0m\u001b[0;34m,\u001b[0m\u001b[0;34m\u001b[0m\n",
      "\u001b[0;34m\u001b[0m    \u001b[0morder\u001b[0m\u001b[0;34m=\u001b[0m\u001b[0;34m'C'\u001b[0m\u001b[0;34m,\u001b[0m\u001b[0;34m\u001b[0m\n",
      "\u001b[0;34m\u001b[0m    \u001b[0;34m*\u001b[0m\u001b[0;34m,\u001b[0m\u001b[0;34m\u001b[0m\n",
      "\u001b[0;34m\u001b[0m    \u001b[0mdevice\u001b[0m\u001b[0;34m=\u001b[0m\u001b[0;32mNone\u001b[0m\u001b[0;34m,\u001b[0m\u001b[0;34m\u001b[0m\n",
      "\u001b[0;34m\u001b[0m    \u001b[0mlike\u001b[0m\u001b[0;34m=\u001b[0m\u001b[0;32mNone\u001b[0m\u001b[0;34m,\u001b[0m\u001b[0;34m\u001b[0m\n",
      "\u001b[0;34m\u001b[0m\u001b[0;34m)\u001b[0m\u001b[0;34m\u001b[0m\u001b[0;34m\u001b[0m\u001b[0m\n",
      "\u001b[0;31mDocstring:\u001b[0m\n",
      "Return a 2-D array with ones on the diagonal and zeros elsewhere.\n",
      "\n",
      "Parameters\n",
      "----------\n",
      "N : int\n",
      "  Number of rows in the output.\n",
      "M : int, optional\n",
      "  Number of columns in the output. If None, defaults to `N`.\n",
      "k : int, optional\n",
      "  Index of the diagonal: 0 (the default) refers to the main diagonal,\n",
      "  a positive value refers to an upper diagonal, and a negative value\n",
      "  to a lower diagonal.\n",
      "dtype : data-type, optional\n",
      "  Data-type of the returned array.\n",
      "order : {'C', 'F'}, optional\n",
      "    Whether the output should be stored in row-major (C-style) or\n",
      "    column-major (Fortran-style) order in memory.\n",
      "\n",
      "    .. versionadded:: 1.14.0\n",
      "device : str, optional\n",
      "    The device on which to place the created array. Default: None.\n",
      "    For Array-API interoperability only, so must be ``\"cpu\"`` if passed.\n",
      "\n",
      "    .. versionadded:: 2.0.0\n",
      "like : array_like, optional\n",
      "    Reference object to allow the creation of arrays which are not\n",
      "    NumPy arrays. If an array-like passed in as ``like`` supports\n",
      "    the ``__array_function__`` protocol, the result will be defined\n",
      "    by it. In this case, it ensures the creation of an array object\n",
      "    compatible with that passed in via this argument.\n",
      "\n",
      "    .. versionadded:: 1.20.0\n",
      "\n",
      "Returns\n",
      "-------\n",
      "I : ndarray of shape (N,M)\n",
      "  An array where all elements are equal to zero, except for the `k`-th\n",
      "  diagonal, whose values are equal to one.\n",
      "\n",
      "See Also\n",
      "--------\n",
      "identity : (almost) equivalent function\n",
      "diag : diagonal 2-D array from a 1-D array specified by the user.\n",
      "\n",
      "Examples\n",
      "--------\n",
      ">>> np.eye(2, dtype=int)\n",
      "array([[1, 0],\n",
      "       [0, 1]])\n",
      ">>> np.eye(3, k=1)\n",
      "array([[0.,  1.,  0.],\n",
      "       [0.,  0.,  1.],\n",
      "       [0.,  0.,  0.]])\n",
      "\u001b[0;31mFile:\u001b[0m      /Library/Frameworks/Python.framework/Versions/3.12/lib/python3.12/site-packages/numpy/lib/_twodim_base_impl.py\n",
      "\u001b[0;31mType:\u001b[0m      function"
     ]
    }
   ],
   "source": [
    "np.eye?"
   ]
  },
  {
   "cell_type": "markdown",
   "metadata": {},
   "source": [
    "##### Generating Random numbers"
   ]
  },
  {
   "cell_type": "code",
   "execution_count": 121,
   "metadata": {},
   "outputs": [
    {
     "name": "stderr",
     "output_type": "stream",
     "text": [
      "/var/folders/4m/1npqh7l57tqg27ytqgrsj9n80000gn/T/ipykernel_1023/2227449520.py:6: DeprecationWarning: This function is deprecated. Please call randint(1, 10 + 1) instead\n",
      "  np.random.random_integers(1,10,5) # start-end-size (random numbers generated)\n"
     ]
    },
    {
     "data": {
      "text/plain": [
       "array([[0.59987026, 0.82391422, 0.67795135, 0.58411054, 0.67001968],\n",
       "       [0.24409989, 0.73388584, 0.5963192 , 0.14430244, 0.24687733],\n",
       "       [0.74170657, 0.98752625, 0.72179529, 0.38593205, 0.4846573 ],\n",
       "       [0.61957319, 0.15378683, 0.90084559, 0.27535595, 0.27049562],\n",
       "       [0.51988568, 0.1494173 , 0.2583469 , 0.13661379, 0.99357239]])"
      ]
     },
     "execution_count": 121,
     "metadata": {},
     "output_type": "execute_result"
    }
   ],
   "source": [
    "# np.random.random(5) # 5 random numbers generated\n",
    "np.random.rand(1,10,2) # start from 1 till 10 in how many column (random numbers generated)\n",
    "np.random.randint([8,5],[[10,10]]) # between 8 to 10 and 5 to 10 (random numbers generated)\n",
    "np.random.randint(1,5) # between 1 to 5 (single random number generated)\n",
    "np.random.randn(1,5) # start from 1 to 5 (random number generated)\n",
    "np.random.random_integers(1,10,5) # start-end-size (random numbers generated)\n",
    "np.random.random_sample((5,5)) #5 rows 5 columns (random numbers generated as sample)\n"
   ]
  },
  {
   "cell_type": "markdown",
   "metadata": {},
   "source": [
    "##### Slicing | Indexing | Filtering"
   ]
  },
  {
   "cell_type": "code",
   "execution_count": 8,
   "metadata": {},
   "outputs": [
    {
     "data": {
      "text/plain": [
       "array([ 0,  2,  4,  6,  8, 10, 12, 14, 16, 18, 20, 22, 24, 26, 28, 30, 32,\n",
       "       34, 36, 38, 40, 42, 44, 46, 48, 50, 52, 54, 56, 58, 60, 62, 64, 66,\n",
       "       68, 70, 72, 74, 76, 78, 80, 82, 84, 86, 88, 90, 92, 94, 96, 98])"
      ]
     },
     "execution_count": 8,
     "metadata": {},
     "output_type": "execute_result"
    }
   ],
   "source": [
    "#suppose an array is a like\n",
    "a=np.arange(0,100)\n",
    "# i want all values >50\n",
    "a[a>50]\n",
    "# i want all values between 10 and 70\n",
    "a[(a>=10) & (a<=70)]\n",
    "# i want excluding above condition\n",
    "a[~((a>=10) & (a<=70))]\n",
    "# i want all even values\n",
    "a[a%2==0]"
   ]
  },
  {
   "cell_type": "markdown",
   "metadata": {},
   "source": [
    "##### Sorting"
   ]
  },
  {
   "cell_type": "code",
   "execution_count": 11,
   "metadata": {},
   "outputs": [
    {
     "data": {
      "text/plain": [
       "array([99, 98, 97, 96, 95, 94, 93, 92, 91, 90, 89, 88, 87, 86, 85, 84, 83,\n",
       "       82, 81, 80, 79, 78, 77, 76, 75, 74, 73, 72, 71, 70, 69, 68, 67, 66,\n",
       "       65, 64, 63, 62, 61, 60, 59, 58, 57, 56, 55, 54, 53, 52, 51, 50, 49,\n",
       "       48, 47, 46, 45, 44, 43, 42, 41, 40, 39, 38, 37, 36, 35, 34, 33, 32,\n",
       "       31, 30, 29, 28, 27, 26, 25, 24, 23, 22, 21, 20, 19, 18, 17, 16, 15,\n",
       "       14, 13, 12, 11, 10,  9,  8,  7,  6,  5,  4,  3,  2,  1,  0])"
      ]
     },
     "execution_count": 11,
     "metadata": {},
     "output_type": "execute_result"
    }
   ],
   "source": [
    "#suppose an array is a like\n",
    "a=np.arange(0,100)\n",
    "np.sort(a) # ascending order\n",
    "np.flip(a) # descending order"
   ]
  },
  {
   "cell_type": "markdown",
   "metadata": {},
   "source": [
    "##### Unique | Transpose | Swapaxes | flatten | ravel"
   ]
  },
  {
   "cell_type": "code",
   "execution_count": 32,
   "metadata": {},
   "outputs": [
    {
     "data": {
      "text/plain": [
       "array([ 1,  2,  3,  4,  5,  6,  7,  8,  9, 10, 11, 12, 13, 14, 15])"
      ]
     },
     "execution_count": 32,
     "metadata": {},
     "output_type": "execute_result"
    }
   ],
   "source": [
    "# suppose an array like b\n",
    "b=np.array([10,23,23,23,45,4,4,3,2,1,10,10,10])\n",
    "np.unique(b) # will show all unique values\n",
    "\n",
    "# suppose an array like c\n",
    "c=np.array([[1,2,3,4,5],[6,7,8,9,10],[11,12,13,14,15]])\n",
    "c # 3x5 matrix\n",
    "np.transpose(c) # 5x3 matrix\n",
    "c.T # 5x3 matrix\n",
    "\n",
    "c.swapaxes(0,1) # work like transpose\n",
    "c.flatten() # arrays got flat structure\n",
    "c.ravel() # arrays got flat structure\n"
   ]
  },
  {
   "cell_type": "markdown",
   "metadata": {},
   "source": [
    "##### Stacking | combining arrays | Splitting"
   ]
  },
  {
   "cell_type": "code",
   "execution_count": 15,
   "metadata": {},
   "outputs": [
    {
     "name": "stderr",
     "output_type": "stream",
     "text": [
      "/var/folders/4m/1npqh7l57tqg27ytqgrsj9n80000gn/T/ipykernel_708/1717189221.py:8: DeprecationWarning: `row_stack` alias is deprecated. Use `np.vstack` directly.\n",
      "  np.row_stack((a,b))\n"
     ]
    },
    {
     "data": {
      "text/plain": [
       "[array([0, 1, 2]), array([3]), array([ 4,  5,  6,  7,  8,  9, 10, 11])]"
      ]
     },
     "execution_count": 15,
     "metadata": {},
     "output_type": "execute_result"
    }
   ],
   "source": [
    "#suppose arrays\n",
    "a=np.array([1,2,3])\n",
    "b=np.array([4,5,6])\n",
    "np.vstack((a,b))\n",
    "np.hstack((a,b))\n",
    "\n",
    "np.column_stack((a,b))\n",
    "np.row_stack((a,b))\n",
    "\n",
    "np.hsplit(a,(2,4))\n",
    "x=np.arange(12)\n",
    "np.hsplit(x,(3,4))"
   ]
  },
  {
   "cell_type": "markdown",
   "metadata": {},
   "source": [
    "##### Basic Maths opertions"
   ]
  },
  {
   "cell_type": "code",
   "execution_count": 38,
   "metadata": {},
   "outputs": [
    {
     "name": "stdout",
     "output_type": "stream",
     "text": [
      "66\n",
      "11\n",
      "0\n",
      "5.5\n",
      "3.452052529534663\n",
      "5.5\n",
      "60\n",
      "3\n",
      "2.0\n",
      "3.0\n",
      "1.0\n"
     ]
    },
    {
     "data": {
      "text/plain": [
       "array([1.5, 2. , 2.5])"
      ]
     },
     "execution_count": 38,
     "metadata": {},
     "output_type": "execute_result"
    }
   ],
   "source": [
    "print(x.sum())\n",
    "print(x.max())\n",
    "print(x.min())\n",
    "print(x.mean())\n",
    "print(x.std())\n",
    "print(np.median(x))\n",
    "# suppose we have arrays like\n",
    "a=np.array([1,2,3])\n",
    "b=np.array([4,5,6])\n",
    "\n",
    "np.power(a,b)\n",
    "np.sqrt(a), np.sqrt(b)\n",
    "np.cbrt(a), np.cbrt(b)\n",
    "np.exp(a)\n",
    "np.log(a)\n",
    "np.log2(a)\n",
    "np.log10(a)\n",
    "\n",
    "#suppose an array like p\n",
    "p=np.arange(1,10)\n",
    "p.cumsum()\n",
    "\n",
    "\n",
    "print(np.lcm(12,15))\n",
    "print(np.gcd(12,15))\n",
    "print(np.floor(2.3))\n",
    "print(np.ceil(2.3))\n",
    "print(np.corrcoef(a))\n",
    "np.percentile(a,[25,50,75])"
   ]
  },
  {
   "cell_type": "markdown",
   "metadata": {},
   "source": [
    "##### Trigonometry functions"
   ]
  },
  {
   "cell_type": "code",
   "execution_count": 44,
   "metadata": {},
   "outputs": [
    {
     "data": {
      "text/plain": [
       "array([4.12310563, 5.38516481, 6.70820393])"
      ]
     },
     "execution_count": 44,
     "metadata": {},
     "output_type": "execute_result"
    }
   ],
   "source": [
    "np.sin(a)\n",
    "np.cos(a)\n",
    "np.tan(a)\n",
    "np.hypot(a,b)"
   ]
  },
  {
   "cell_type": "code",
   "execution_count": null,
   "metadata": {},
   "outputs": [],
   "source": []
  }
 ],
 "metadata": {
  "kernelspec": {
   "display_name": "Python 3",
   "language": "python",
   "name": "python3"
  },
  "language_info": {
   "codemirror_mode": {
    "name": "ipython",
    "version": 3
   },
   "file_extension": ".py",
   "mimetype": "text/x-python",
   "name": "python",
   "nbconvert_exporter": "python",
   "pygments_lexer": "ipython3",
   "version": "3.12.0"
  }
 },
 "nbformat": 4,
 "nbformat_minor": 2
}
